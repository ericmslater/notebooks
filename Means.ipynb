{
 "cells": [
  {
   "cell_type": "code",
   "execution_count": 2,
   "metadata": {
    "collapsed": false
   },
   "outputs": [
    {
     "name": "stdout",
     "output_type": "stream",
     "text": [
      "Mean of x1: 29 / 8 = 3.625\n",
      "Mean of x2: 129 / 9 = 14.3333333333\n"
     ]
    }
   ],
   "source": [
    "# Two useful statistical libraries\n",
    "import scipy.stats as stats\n",
    "import numpy as np\n",
    "\n",
    "# We'll use these two data sets as examples\n",
    "x1 = [1, 2, 2, 3, 4, 5, 5, 7]\n",
    "x2 = x1 + [100]\n",
    "\n",
    "print ('Mean of x1:', sum(x1), '/', len(x1), '=', np.mean(x1))\n",
    "print ('Mean of x2:', sum(x2), '/', len(x2), '=', np.mean(x2))"
   ]
  },
  {
   "cell_type": "code",
   "execution_count": null,
   "metadata": {
    "collapsed": true
   },
   "outputs": [],
   "source": []
  },
  {
   "cell_type": "code",
   "execution_count": null,
   "metadata": {
    "collapsed": true
   },
   "outputs": [],
   "source": []
  },
  {
   "cell_type": "code",
   "execution_count": null,
   "metadata": {
    "collapsed": true
   },
   "outputs": [],
   "source": []
  }
 ],
 "metadata": {
  "kernelspec": {
   "display_name": "Python 3",
   "language": "python",
   "name": "python3"
  },
  "language_info": {
   "codemirror_mode": {
    "name": "ipython",
    "version": 3
   },
   "file_extension": ".py",
   "mimetype": "text/x-python",
   "name": "python",
   "nbconvert_exporter": "python",
   "pygments_lexer": "ipython3",
   "version": "3.6.0"
  }
 },
 "nbformat": 4,
 "nbformat_minor": 2
}
